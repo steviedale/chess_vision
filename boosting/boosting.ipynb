{
 "cells": [
  {
   "cell_type": "code",
   "execution_count": null,
   "metadata": {},
   "outputs": [],
   "source": [
    "# Load libraries\n",
    "import pandas as pd\n",
    "from sklearn import metrics #Import scikit-learn metrics module for accuracy calculation\n",
    "from sklearn.ensemble import AdaBoostClassifier\n",
    "from sklearn.model_selection import cross_val_score\n",
    "\n",
    "import cv2\n",
    "from tqdm import tqdm\n",
    "import imutils\n",
    "import numpy as np\n",
    "import time"
   ]
  },
  {
   "cell_type": "code",
   "execution_count": null,
   "metadata": {},
   "outputs": [],
   "source": [
    "df_dict = {\n",
    "    'train': pd.read_csv('/home/stevie/datasets/chess_vision/256x256/dataframes/train.csv'),\n",
    "    'test': pd.read_csv('/home/stevie/datasets/chess_vision/256x256/dataframes/test.csv'),\n",
    "}"
   ]
  },
  {
   "cell_type": "code",
   "execution_count": null,
   "metadata": {},
   "outputs": [],
   "source": [
    "# grab the list of images that we'll be describing\n",
    "print(\"[INFO] describing images...\")\n",
    "# initialize the raw pixel intensities matrix, the features matrix,\n",
    "# and labels list\n",
    "images = {}\n",
    "features = {}\n",
    "labels = {}\n",
    "for set_str in 'train', 'test':\n",
    "    images[set_str] = []\n",
    "    features[set_str] = []\n",
    "    labels[set_str] = []"
   ]
  },
  {
   "cell_type": "code",
   "execution_count": null,
   "metadata": {},
   "outputs": [],
   "source": [
    "def image_to_feature_vector(image, size=(32, 32)):\n",
    "\t# resize the image to a fixed size, then flatten the image into\n",
    "\t# a list of raw pixel intensities\n",
    "\treturn cv2.resize(image, size).flatten()"
   ]
  },
  {
   "cell_type": "code",
   "execution_count": null,
   "metadata": {},
   "outputs": [],
   "source": [
    "def extract_color_histogram(image, bins=(8, 8, 8)):\n",
    "\t# extract a 3D color histogram from the HSV color space using\n",
    "\t# the supplied number of `bins` per channel\n",
    "\thsv = cv2.cvtColor(image, cv2.COLOR_BGR2HSV)\n",
    "\thist = cv2.calcHist([hsv], [0, 1, 2], None, bins,\n",
    "\t\t[0, 180, 0, 256, 0, 256])\n",
    "\t# handle normalizing the histogram if we are using OpenCV 2.4.X\n",
    "\tif imutils.is_cv2():\n",
    "\t\thist = cv2.normalize(hist)\n",
    "\t# otherwise, perform \"in place\" normalization in OpenCV 3 (I\n",
    "\t# personally hate the way this is done\n",
    "\telse:\n",
    "\t\tcv2.normalize(hist, hist)\n",
    "\t# return the flattened histogram as the feature vector\n",
    "\treturn hist.flatten()"
   ]
  },
  {
   "cell_type": "code",
   "execution_count": null,
   "metadata": {},
   "outputs": [],
   "source": [
    "# loop over the input images\n",
    "for set_str, df in df_dict.items():\n",
    "\tprint(len(df))\n",
    "\tfor i, row in tqdm(df.iterrows()):\n",
    "\t\t# load the image and extract the class label (assuming that our\n",
    "\t\t# path as the format: /path/to/dataset/{class}.{image_num}.jpg\n",
    "\t\timage = cv2.imread(row['path'])\n",
    "\t\tlabel = row['label']\n",
    "\t\t# extract raw pixel intensity \"features\", followed by a color\n",
    "\t\t# histogram to characterize the color distribution of the pixels\n",
    "\t\t# in the image\n",
    "\t\tpixels = image_to_feature_vector(image)\n",
    "\t\thist = extract_color_histogram(image)\n",
    "\t\t# update the raw images, features, and labels matricies,\n",
    "\t\t# respectively\n",
    "\t\timages[set_str].append(pixels)\n",
    "\t\tfeatures[set_str].append(hist)\n",
    "\t\tlabels[set_str].append(label)"
   ]
  },
  {
   "cell_type": "code",
   "execution_count": null,
   "metadata": {},
   "outputs": [],
   "source": [
    "for set_str in 'train', 'test':\n",
    "    images[set_str] = np.array(images[set_str])\n",
    "    features[set_str] = np.array(features[set_str])\n",
    "    labels[set_str] = np.array(labels[set_str])\n",
    "\n",
    "    print(set_str)\n",
    "    print(\"[INFO] pixels matrix: {:.2f}MB\".format(images[set_str].nbytes / (1024 * 1000.0)))\n",
    "    print(\"[INFO] features matrix: {:.2f}MB\".format(features[set_str].nbytes / (1024 * 1000.0)))"
   ]
  },
  {
   "cell_type": "code",
   "execution_count": null,
   "metadata": {},
   "outputs": [],
   "source": [
    "len(images['train'])"
   ]
  },
  {
   "cell_type": "code",
   "execution_count": null,
   "metadata": {},
   "outputs": [],
   "source": [
    "data = {'input_type': [], 'n': [], 'fit_time': [], 'eval_time': [], 'accuracy': []}\n",
    "for n in tqdm((1, 2, 3, 4, 5, 10, 15, 20)):\n",
    "    print(f\"n: {n}\")\n",
    "    for input_label, input_data in ('images', images), ('features', features):\n",
    "        print(f\"\\t{input_label}\")\n",
    "\n",
    "        model = AdaBoostClassifier(n_estimators=n, random_state=0)\n",
    "\n",
    "        t0 = time.perf_counter()\n",
    "        model = model.fit(input_data['train'], labels['train'])\n",
    "        t1 = time.perf_counter()\n",
    "        fit_time = (t1 - t0) / len(input_data['train'])\n",
    "\n",
    "        #Predict the response for test dataset\n",
    "        t0 = time.perf_counter()\n",
    "        y_pred = model.predict(input_data['test'])\n",
    "        t1 = time.perf_counter()\n",
    "        eval_time = (t1 - t0) / len(input_data['test'])\n",
    "\n",
    "        # Model Accuracy, how often is the classifier correct?\n",
    "        acc = metrics.accuracy_score(labels['test'], y_pred)\n",
    "\n",
    "        print(f\"\\tAccuracy: {acc}\")\n",
    "        print(f\"\\tFit Time: {fit_time}\")\n",
    "        print(f\"\\tEval Time: {eval_time}\")\n",
    "\n",
    "        data['input_type'].append(input_label)\n",
    "        data['n'].append(n)\n",
    "        data['eval_time'].append(eval_time)\n",
    "        data['fit_time'].append(fit_time)\n",
    "        data['accuracy'].append(acc)\n",
    "\n",
    "        df = pd.DataFrame.from_dict(data)\n",
    "        df.to_csv('results/data.csv', index=False)"
   ]
  },
  {
   "cell_type": "code",
   "execution_count": null,
   "metadata": {},
   "outputs": [],
   "source": []
  }
 ],
 "metadata": {
  "kernelspec": {
   "display_name": "Python 3.8.10 ('venv': venv)",
   "language": "python",
   "name": "python3"
  },
  "language_info": {
   "codemirror_mode": {
    "name": "ipython",
    "version": 3
   },
   "file_extension": ".py",
   "mimetype": "text/x-python",
   "name": "python",
   "nbconvert_exporter": "python",
   "pygments_lexer": "ipython3",
   "version": "3.8.10"
  },
  "orig_nbformat": 4,
  "vscode": {
   "interpreter": {
    "hash": "13639fb57c0d6e77b6df30eaff549af56586b1fadc762c3f5b241243bf02e0d0"
   }
  }
 },
 "nbformat": 4,
 "nbformat_minor": 2
}
