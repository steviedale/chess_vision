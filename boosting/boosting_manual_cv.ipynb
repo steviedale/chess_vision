{
 "cells": [
  {
   "cell_type": "code",
   "execution_count": 1,
   "metadata": {},
   "outputs": [],
   "source": [
    "from sklearn.ensemble import AdaBoostClassifier\n",
    "from sklearn.tree import DecisionTreeClassifier\n",
    "from imutils import paths\n",
    "import numpy as np\n",
    "import argparse\n",
    "import imutils\n",
    "import cv2\n",
    "import os\n",
    "import matplotlib.pyplot as plt\n",
    "import pandas as pd\n",
    "from tqdm import tqdm\n",
    "import time"
   ]
  },
  {
   "cell_type": "code",
   "execution_count": 2,
   "metadata": {},
   "outputs": [],
   "source": [
    "def image_to_feature_vector(image, size=(32, 32)):\n",
    "\t# resize the image to a fixed size, then flatten the image into\n",
    "\t# a list of raw pixel intensities\n",
    "\treturn cv2.resize(image, size).flatten()"
   ]
  },
  {
   "cell_type": "code",
   "execution_count": 3,
   "metadata": {},
   "outputs": [],
   "source": [
    "def extract_color_histogram(image, bins=(8, 8, 8)):\n",
    "\t# extract a 3D color histogram from the HSV color space using\n",
    "\t# the supplied number of `bins` per channel\n",
    "\thsv = cv2.cvtColor(image, cv2.COLOR_BGR2HSV)\n",
    "\thist = cv2.calcHist([hsv], [0, 1, 2], None, bins,\n",
    "\t\t[0, 180, 0, 256, 0, 256])\n",
    "\t# handle normalizing the histogram if we are using OpenCV 2.4.X\n",
    "\tif imutils.is_cv2():\n",
    "\t\thist = cv2.normalize(hist)\n",
    "\t# otherwise, perform \"in place\" normalization in OpenCV 3 (I\n",
    "\t# personally hate the way this is done\n",
    "\telse:\n",
    "\t\tcv2.normalize(hist, hist)\n",
    "\t# return the flattened histogram as the feature vector\n",
    "\treturn hist.flatten()"
   ]
  },
  {
   "cell_type": "code",
   "execution_count": 4,
   "metadata": {},
   "outputs": [],
   "source": [
    "df_dict = {\n",
    "    'train': pd.read_csv('/home/stevie/datasets/chess_vision/256x256/dataframes/train.csv'),\n",
    "    'test': pd.read_csv('/home/stevie/datasets/chess_vision/256x256/dataframes/test.csv'),\n",
    "}"
   ]
  },
  {
   "cell_type": "code",
   "execution_count": 5,
   "metadata": {},
   "outputs": [],
   "source": [
    "df = pd.concat(df_dict.values())"
   ]
  },
  {
   "cell_type": "code",
   "execution_count": 6,
   "metadata": {},
   "outputs": [
    {
     "data": {
      "text/plain": [
       "array(['set_2', 'set_3', 'set_4', 'set_1'], dtype=object)"
      ]
     },
     "execution_count": 6,
     "metadata": {},
     "output_type": "execute_result"
    }
   ],
   "source": [
    "df['set'].unique()"
   ]
  },
  {
   "cell_type": "code",
   "execution_count": 7,
   "metadata": {},
   "outputs": [
    {
     "name": "stdout",
     "output_type": "stream",
     "text": [
      "[INFO] describing images...\n"
     ]
    }
   ],
   "source": [
    "# grab the list of images that we'll be describing\n",
    "print(\"[INFO] describing images...\")\n",
    "# initialize the raw pixel intensities matrix, the features matrix,\n",
    "# and labels list\n",
    "images = {}\n",
    "features = {}\n",
    "labels = {}\n",
    "for set_str in df['set'].unique():\n",
    "    images[set_str] = []\n",
    "    features[set_str] = []\n",
    "    labels[set_str] = []"
   ]
  },
  {
   "cell_type": "code",
   "execution_count": 8,
   "metadata": {},
   "outputs": [
    {
     "name": "stdout",
     "output_type": "stream",
     "text": [
      "54600\n",
      "1280\n"
     ]
    }
   ],
   "source": [
    "print(len(df))\n",
    "n = 10\n",
    "new_df = pd.DataFrame()\n",
    "df['combo'] = df.apply(lambda row: f\"{row['set']}_{row['label']}\", axis=1)\n",
    "for combo in df['combo'].unique():\n",
    "    selection = df[df['combo'] == combo]\n",
    "    new_df = pd.concat([new_df, selection.sample(n=n)])\n",
    "df = new_df\n",
    "print(len(df))"
   ]
  },
  {
   "cell_type": "code",
   "execution_count": 9,
   "metadata": {},
   "outputs": [
    {
     "name": "stdout",
     "output_type": "stream",
     "text": [
      "1280\n"
     ]
    },
    {
     "name": "stderr",
     "output_type": "stream",
     "text": [
      "1280it [00:01, 738.64it/s]\n"
     ]
    }
   ],
   "source": [
    "# loop over the input images\n",
    "print(len(df))\n",
    "for i, row in tqdm(df.iterrows()):\n",
    "\t# load the image and extract the class label (assuming that our\n",
    "\t# path as the format: /path/to/dataset/{class}.{image_num}.jpg\n",
    "\timage = cv2.imread(row['path'])\n",
    "\tlabel = row['label']\n",
    "\t# extract raw pixel intensity \"features\", followed by a color\n",
    "\t# histogram to characterize the color distribution of the pixels\n",
    "\t# in the image\n",
    "\tpixels = image_to_feature_vector(image)\n",
    "\thist = extract_color_histogram(image)\n",
    "\t# update the raw images, features, and labels matricies,\n",
    "\t# respectively\n",
    "\tset_str = row['set']\n",
    "\timages[set_str].append(pixels)\n",
    "\tfeatures[set_str].append(hist)\n",
    "\tlabels[set_str].append(label)"
   ]
  },
  {
   "cell_type": "code",
   "execution_count": 10,
   "metadata": {},
   "outputs": [
    {
     "name": "stdout",
     "output_type": "stream",
     "text": [
      "set_2\n",
      "[INFO] pixels matrix: 0.96MB\n",
      "[INFO] features matrix: 0.64MB\n",
      "set_3\n",
      "[INFO] pixels matrix: 0.96MB\n",
      "[INFO] features matrix: 0.64MB\n",
      "set_4\n",
      "[INFO] pixels matrix: 0.96MB\n",
      "[INFO] features matrix: 0.64MB\n",
      "set_1\n",
      "[INFO] pixels matrix: 0.96MB\n",
      "[INFO] features matrix: 0.64MB\n"
     ]
    }
   ],
   "source": [
    "for set_str in df['set'].unique():\n",
    "    images[set_str] = np.array(images[set_str])\n",
    "    features[set_str] = np.array(features[set_str])\n",
    "    labels[set_str] = np.array(labels[set_str])\n",
    "\n",
    "    print(set_str)\n",
    "    print(\"[INFO] pixels matrix: {:.2f}MB\".format(images[set_str].nbytes / (1024 * 1000.0)))\n",
    "    print(\"[INFO] features matrix: {:.2f}MB\".format(features[set_str].nbytes / (1024 * 1000.0)))"
   ]
  },
  {
   "cell_type": "code",
   "execution_count": 12,
   "metadata": {},
   "outputs": [
    {
     "name": "stderr",
     "output_type": "stream",
     "text": [
      "  0%|          | 0/10 [00:00<?, ?it/s]"
     ]
    },
    {
     "name": "stdout",
     "output_type": "stream",
     "text": [
      "n: 1\n",
      "\tAccuracy: 0.053125\n",
      "\tFit Time: 0.0033222009738286336\n",
      "\tEval Time: 4.550069570541382e-06\n",
      "\tAccuracy: 0.028125\n",
      "\tFit Time: 0.003240975985924403\n",
      "\tEval Time: 4.135072231292725e-06\n",
      "\tAccuracy: 0.034375\n",
      "\tFit Time: 0.002997180571158727\n",
      "\tEval Time: 4.202872514724732e-06\n",
      "\tAccuracy: 0.0625\n",
      "\tFit Time: 0.003111796826124191\n",
      "\tEval Time: 5.038827657699585e-06\n",
      "\tAccuracy: 0.071875\n",
      "\tFit Time: 0.00017397676904996236\n",
      "\tEval Time: 2.4303793907165526e-06\n",
      "\tAccuracy: 0.03125\n",
      "\tFit Time: 0.0001990668475627899\n",
      "\tEval Time: 2.1889805793762208e-06\n",
      "\tAccuracy: 0.03125\n",
      "\tFit Time: 0.00015595207611719767\n",
      "\tEval Time: 2.2903084754943846e-06\n"
     ]
    },
    {
     "name": "stderr",
     "output_type": "stream",
     "text": [
      " 10%|█         | 1/10 [00:12<01:55, 12.87s/it]"
     ]
    },
    {
     "name": "stdout",
     "output_type": "stream",
     "text": [
      "\tAccuracy: 0.0375\n",
      "\tFit Time: 0.00018030678232510883\n",
      "\tEval Time: 2.150237560272217e-06\n",
      "n: 2\n",
      "\tAccuracy: 0.04375\n",
      "\tFit Time: 0.006505124519268672\n",
      "\tEval Time: 6.6481530666351315e-06\n",
      "\tAccuracy: 0.03125\n",
      "\tFit Time: 0.006378007680177688\n",
      "\tEval Time: 6.385147571563721e-06\n",
      "\tAccuracy: 0.0375\n",
      "\tFit Time: 0.0059282844265302025\n",
      "\tEval Time: 6.103515625e-06\n",
      "\tAccuracy: 0.034375\n",
      "\tFit Time: 0.006227557609478632\n",
      "\tEval Time: 6.1124563217163084e-06\n",
      "\tAccuracy: 0.075\n",
      "\tFit Time: 0.0003804070254166921\n",
      "\tEval Time: 3.016740083694458e-06\n",
      "\tAccuracy: 0.034375\n",
      "\tFit Time: 0.0004309174915154775\n",
      "\tEval Time: 2.8729438781738283e-06\n",
      "\tAccuracy: 0.021875\n",
      "\tFit Time: 0.0003482287128766378\n",
      "\tEval Time: 2.9340386390686036e-06\n"
     ]
    },
    {
     "name": "stderr",
     "output_type": "stream",
     "text": [
      " 20%|██        | 2/10 [00:38<02:42, 20.34s/it]"
     ]
    },
    {
     "name": "stdout",
     "output_type": "stream",
     "text": [
      "\tAccuracy: 0.03125\n",
      "\tFit Time: 0.0004102398951848348\n",
      "\tEval Time: 2.9623508453369142e-06\n",
      "n: 3\n",
      "\tAccuracy: 0.04375\n",
      "\tFit Time: 0.010453630238771439\n",
      "\tEval Time: 9.173154830932618e-06\n",
      "\tAccuracy: 0.021875\n",
      "\tFit Time: 0.010635919868946075\n",
      "\tEval Time: 1.136884093284607e-05\n",
      "\tAccuracy: 0.04375\n",
      "\tFit Time: 0.008841178317864736\n",
      "\tEval Time: 1.2790411710739136e-05\n",
      "\tAccuracy: 0.04375\n",
      "\tFit Time: 0.009748672445615133\n",
      "\tEval Time: 1.0428577661514283e-05\n",
      "\tAccuracy: 0.071875\n",
      "\tFit Time: 0.0006051721672217051\n",
      "\tEval Time: 4.212558269500732e-06\n",
      "\tAccuracy: 0.040625\n",
      "\tFit Time: 0.0006492813428243001\n",
      "\tEval Time: 3.983825445175171e-06\n",
      "\tAccuracy: 0.021875\n",
      "\tFit Time: 0.0005659726758797963\n",
      "\tEval Time: 3.851950168609619e-06\n"
     ]
    },
    {
     "name": "stderr",
     "output_type": "stream",
     "text": [
      " 30%|███       | 3/10 [01:18<03:26, 29.55s/it]"
     ]
    },
    {
     "name": "stdout",
     "output_type": "stream",
     "text": [
      "\tAccuracy: 0.025\n",
      "\tFit Time: 0.000643072525660197\n",
      "\tEval Time: 4.297494888305664e-06\n",
      "n: 4\n",
      "\tAccuracy: 0.059375\n",
      "\tFit Time: 0.012804331382115682\n",
      "\tEval Time: 1.0988861322402955e-05\n",
      "\tAccuracy: 0.025\n",
      "\tFit Time: 0.013403187443812688\n",
      "\tEval Time: 2.2994726896286012e-05\n",
      "\tAccuracy: 0.059375\n",
      "\tFit Time: 0.013636250793933869\n",
      "\tEval Time: 1.4007836580276489e-05\n",
      "\tAccuracy: 0.046875\n",
      "\tFit Time: 0.013038543860117595\n",
      "\tEval Time: 1.0419636964797974e-05\n",
      "\tAccuracy: 0.053125\n",
      "\tFit Time: 0.0008802428841590881\n",
      "\tEval Time: 4.649162292480469e-06\n",
      "\tAccuracy: 0.0625\n",
      "\tFit Time: 0.0009128173192342122\n",
      "\tEval Time: 4.53069806098938e-06\n",
      "\tAccuracy: 0.028125\n",
      "\tFit Time: 0.0008066256841023763\n",
      "\tEval Time: 4.637986421585083e-06\n"
     ]
    },
    {
     "name": "stderr",
     "output_type": "stream",
     "text": [
      " 40%|████      | 4/10 [02:13<03:56, 39.35s/it]"
     ]
    },
    {
     "name": "stdout",
     "output_type": "stream",
     "text": [
      "\tAccuracy: 0.03125\n",
      "\tFit Time: 0.0009332592288653056\n",
      "\tEval Time: 4.738569259643555e-06\n",
      "n: 5\n",
      "\tAccuracy: 0.071875\n",
      "\tFit Time: 0.016708536197741826\n",
      "\tEval Time: 1.9624829292297363e-05\n",
      "\tAccuracy: 0.03125\n",
      "\tFit Time: 0.015975062797466914\n",
      "\tEval Time: 1.3368576765060424e-05\n",
      "\tAccuracy: 0.046875\n",
      "\tFit Time: 0.014911227921644846\n",
      "\tEval Time: 1.2075155973434449e-05\n",
      "\tAccuracy: 0.04375\n",
      "\tFit Time: 0.01524228552977244\n",
      "\tEval Time: 1.2074410915374755e-05\n",
      "\tAccuracy: 0.0375\n",
      "\tFit Time: 0.001058781643708547\n",
      "\tEval Time: 5.523860454559326e-06\n",
      "\tAccuracy: 0.046875\n",
      "\tFit Time: 0.00113340492049853\n",
      "\tEval Time: 5.60954213142395e-06\n",
      "\tAccuracy: 0.03125\n",
      "\tFit Time: 0.0009920897583166758\n",
      "\tEval Time: 5.245208740234375e-06\n"
     ]
    },
    {
     "name": "stderr",
     "output_type": "stream",
     "text": [
      " 50%|█████     | 5/10 [03:17<04:02, 48.43s/it]"
     ]
    },
    {
     "name": "stdout",
     "output_type": "stream",
     "text": [
      "\tAccuracy: 0.034375\n",
      "\tFit Time: 0.00112651859720548\n",
      "\tEval Time: 5.5730342864990234e-06\n",
      "n: 10\n",
      "\tAccuracy: 0.040625\n",
      "\tFit Time: 0.0318296159307162\n",
      "\tEval Time: 2.802908420562744e-05\n",
      "\tAccuracy: 0.0375\n",
      "\tFit Time: 0.031116638084252676\n",
      "\tEval Time: 2.709031105041504e-05\n",
      "\tAccuracy: 0.053125\n",
      "\tFit Time: 0.03033429111043612\n",
      "\tEval Time: 2.398267388343811e-05\n",
      "\tAccuracy: 0.071875\n",
      "\tFit Time: 0.030174546192089716\n",
      "\tEval Time: 2.2796541452407836e-05\n",
      "\tAccuracy: 0.03125\n",
      "\tFit Time: 0.0022219441831111907\n",
      "\tEval Time: 9.565800428390504e-06\n",
      "\tAccuracy: 0.046875\n",
      "\tFit Time: 0.002253365268309911\n",
      "\tEval Time: 9.275227785110474e-06\n",
      "\tAccuracy: 0.0375\n",
      "\tFit Time: 0.0019738649328549704\n",
      "\tEval Time: 9.742379188537597e-06\n"
     ]
    },
    {
     "name": "stderr",
     "output_type": "stream",
     "text": [
      " 60%|██████    | 6/10 [05:24<05:00, 75.12s/it]"
     ]
    },
    {
     "name": "stdout",
     "output_type": "stream",
     "text": [
      "\tAccuracy: 0.046875\n",
      "\tFit Time: 0.0022149413824081423\n",
      "\tEval Time: 9.388476610183715e-06\n",
      "n: 15\n",
      "\tAccuracy: 0.040625\n",
      "\tFit Time: 0.04727797110875447\n",
      "\tEval Time: 3.939792513847351e-05\n",
      "\tAccuracy: 0.028125\n",
      "\tFit Time: 0.04608006204168002\n",
      "\tEval Time: 3.343448042869568e-05\n",
      "\tAccuracy: 0.059375\n",
      "\tFit Time: 0.04463533908128738\n",
      "\tEval Time: 3.2798200845718386e-05\n",
      "\tAccuracy: 0.06875\n",
      "\tFit Time: 0.043845184892416\n",
      "\tEval Time: 3.2831728458404544e-05\n",
      "\tAccuracy: 0.046875\n",
      "\tFit Time: 0.003166938324769338\n",
      "\tEval Time: 1.3271719217300415e-05\n",
      "\tAccuracy: 0.046875\n",
      "\tFit Time: 0.0033232202132542927\n",
      "\tEval Time: 1.2990087270736694e-05\n",
      "\tAccuracy: 0.028125\n",
      "\tFit Time: 0.002943528691927592\n",
      "\tEval Time: 1.3007223606109619e-05\n"
     ]
    },
    {
     "name": "stderr",
     "output_type": "stream",
     "text": [
      " 70%|███████   | 7/10 [08:31<05:34, 111.64s/it]"
     ]
    },
    {
     "name": "stdout",
     "output_type": "stream",
     "text": [
      "\tAccuracy: 0.053125\n",
      "\tFit Time: 0.003236050655444463\n",
      "\tEval Time: 1.3622641563415528e-05\n",
      "n: 20\n",
      "\tAccuracy: 0.0375\n",
      "\tFit Time: 0.06081546122829119\n",
      "\tEval Time: 4.476457834243774e-05\n",
      "\tAccuracy: 0.03125\n",
      "\tFit Time: 0.061627726753552756\n",
      "\tEval Time: 4.631355404853821e-05\n",
      "\tAccuracy: 0.053125\n",
      "\tFit Time: 0.05808847397565842\n",
      "\tEval Time: 4.575103521347046e-05\n",
      "\tAccuracy: 0.078125\n",
      "\tFit Time: 0.058320926626523335\n",
      "\tEval Time: 4.266351461410522e-05\n",
      "\tAccuracy: 0.059375\n",
      "\tFit Time: 0.0041880461076895395\n",
      "\tEval Time: 1.7078220844268797e-05\n",
      "\tAccuracy: 0.034375\n",
      "\tFit Time: 0.004378109673659007\n",
      "\tEval Time: 1.779422163963318e-05\n",
      "\tAccuracy: 0.0375\n",
      "\tFit Time: 0.003962472826242447\n",
      "\tEval Time: 1.695379614830017e-05\n"
     ]
    },
    {
     "name": "stderr",
     "output_type": "stream",
     "text": [
      " 80%|████████  | 8/10 [12:37<05:08, 154.30s/it]"
     ]
    },
    {
     "name": "stdout",
     "output_type": "stream",
     "text": [
      "\tAccuracy: 0.0375\n",
      "\tFit Time: 0.0043859260777632395\n",
      "\tEval Time: 1.6989558935165407e-05\n",
      "n: 30\n",
      "\tAccuracy: 0.034375\n",
      "\tFit Time: 0.08999915147821108\n",
      "\tEval Time: 6.694942712783813e-05\n",
      "\tAccuracy: 0.034375\n",
      "\tFit Time: 0.0893882691860199\n",
      "\tEval Time: 6.68257474899292e-05\n",
      "\tAccuracy: 0.05625\n",
      "\tFit Time: 0.08675497770309448\n",
      "\tEval Time: 6.143972277641296e-05\n",
      "\tAccuracy: 0.065625\n",
      "\tFit Time: 0.08692016750574112\n",
      "\tEval Time: 6.460845470428467e-05\n",
      "\tAccuracy: 0.04375\n",
      "\tFit Time: 0.006169505914052327\n",
      "\tEval Time: 2.4884194135665894e-05\n",
      "\tAccuracy: 0.053125\n",
      "\tFit Time: 0.0063654599090417225\n",
      "\tEval Time: 2.46196985244751e-05\n",
      "\tAccuracy: 0.04375\n",
      "\tFit Time: 0.005887951950232188\n",
      "\tEval Time: 2.563297748565674e-05\n"
     ]
    },
    {
     "name": "stderr",
     "output_type": "stream",
     "text": [
      " 90%|█████████ | 9/10 [18:40<03:39, 219.57s/it]"
     ]
    },
    {
     "name": "stdout",
     "output_type": "stream",
     "text": [
      "\tAccuracy: 0.03125\n",
      "\tFit Time: 0.006582763542731603\n",
      "\tEval Time: 2.4990737438201903e-05\n",
      "n: 40\n",
      "\tAccuracy: 0.053125\n",
      "\tFit Time: 0.11931518862644831\n",
      "\tEval Time: 8.51854681968689e-05\n",
      "\tAccuracy: 0.05625\n",
      "\tFit Time: 0.11828819687167803\n",
      "\tEval Time: 8.533895015716553e-05\n",
      "\tAccuracy: 0.05625\n",
      "\tFit Time: 0.11508521934350331\n",
      "\tEval Time: 8.403882384300232e-05\n",
      "\tAccuracy: 0.0625\n",
      "\tFit Time: 0.11544565583268801\n",
      "\tEval Time: 8.515715599060059e-05\n",
      "\tAccuracy: 0.028125\n",
      "\tFit Time: 0.008207898338635762\n",
      "\tEval Time: 3.3190101385116576e-05\n",
      "\tAccuracy: 0.046875\n",
      "\tFit Time: 0.008373567461967468\n",
      "\tEval Time: 3.205239772796631e-05\n",
      "\tAccuracy: 0.040625\n",
      "\tFit Time: 0.007746419062217077\n",
      "\tEval Time: 3.147423267364502e-05\n"
     ]
    },
    {
     "name": "stderr",
     "output_type": "stream",
     "text": [
      "100%|██████████| 10/10 [26:41<00:00, 160.18s/it]"
     ]
    },
    {
     "name": "stdout",
     "output_type": "stream",
     "text": [
      "\tAccuracy: 0.03125\n",
      "\tFit Time: 0.008844535052776336\n",
      "\tEval Time: 3.235936164855957e-05\n"
     ]
    },
    {
     "name": "stderr",
     "output_type": "stream",
     "text": [
      "\n"
     ]
    }
   ],
   "source": [
    "data = {'input_type': [], 'n': [], 'fit_time': [], 'eval_time': [], 'accuracy': [], 'test_set': []}\n",
    "for n in tqdm((1, 2, 3, 4, 5, 10, 15, 20, 30, 40)):\n",
    "    print(f\"n: {n}\")\n",
    "    for input_type, input_data in ('images', images), ('features', features):\n",
    "        for set_str in df['set'].unique():\n",
    "            train_X = np.concatenate([d for s, d in input_data.items() if s != set_str])\n",
    "            train_y = np.concatenate([d for s, d in labels.items() if s != set_str])\n",
    "            test_X = input_data[set_str]\n",
    "            test_y = labels[set_str]\n",
    "\n",
    "            model = AdaBoostClassifier(base_estimator=DecisionTreeClassifier(criterion='gini', max_depth=20), n_estimators=n, random_state=0)\n",
    "\n",
    "            t0 = time.time()\n",
    "            model.fit(train_X, train_y)\n",
    "            t1 = time.time()\n",
    "            fit_time = (t1 - t0) / len(train_X)\n",
    "\n",
    "            #Predict the response for test dataset\n",
    "            t0 = time.time()\n",
    "            acc = model.score(test_X, test_y)\n",
    "            t1 = time.time()\n",
    "            eval_time = (t1 - t0) / len(test_X)\n",
    "\n",
    "            print(f\"\\tAccuracy: {acc}\")\n",
    "            print(f\"\\tFit Time: {fit_time}\")\n",
    "            print(f\"\\tEval Time: {eval_time}\")\n",
    "\n",
    "            data['input_type'].append(input_type)\n",
    "            data['n'].append(n)\n",
    "            data['fit_time'].append(fit_time)\n",
    "            data['eval_time'].append(eval_time)\n",
    "            data['accuracy'].append(acc)\n",
    "            data['test_set'].append(set_str)\n",
    "\n",
    "            result_df = pd.DataFrame.from_dict(data)\n",
    "            result_df.to_csv('results/data_manual_cv.csv', index=False)"
   ]
  },
  {
   "cell_type": "code",
   "execution_count": null,
   "metadata": {},
   "outputs": [],
   "source": []
  },
  {
   "cell_type": "code",
   "execution_count": null,
   "metadata": {},
   "outputs": [],
   "source": []
  }
 ],
 "metadata": {
  "kernelspec": {
   "display_name": "Python 3.8.10 ('venv': venv)",
   "language": "python",
   "name": "python3"
  },
  "language_info": {
   "codemirror_mode": {
    "name": "ipython",
    "version": 3
   },
   "file_extension": ".py",
   "mimetype": "text/x-python",
   "name": "python",
   "nbconvert_exporter": "python",
   "pygments_lexer": "ipython3",
   "version": "3.8.10"
  },
  "orig_nbformat": 4,
  "vscode": {
   "interpreter": {
    "hash": "13639fb57c0d6e77b6df30eaff549af56586b1fadc762c3f5b241243bf02e0d0"
   }
  }
 },
 "nbformat": 4,
 "nbformat_minor": 2
}
