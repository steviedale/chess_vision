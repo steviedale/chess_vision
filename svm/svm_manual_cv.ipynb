{
 "cells": [
  {
   "cell_type": "code",
   "execution_count": 1,
   "metadata": {},
   "outputs": [],
   "source": [
    "from sklearn.svm import SVC\n",
    "from imutils import paths\n",
    "import numpy as np\n",
    "import argparse\n",
    "import imutils\n",
    "import cv2\n",
    "import os\n",
    "import matplotlib.pyplot as plt\n",
    "import pandas as pd\n",
    "from tqdm import tqdm\n",
    "import time"
   ]
  },
  {
   "cell_type": "code",
   "execution_count": 2,
   "metadata": {},
   "outputs": [],
   "source": [
    "def image_to_feature_vector(image, size=(32, 32)):\n",
    "\t# resize the image to a fixed size, then flatten the image into\n",
    "\t# a list of raw pixel intensities\n",
    "\treturn cv2.resize(image, size).flatten()"
   ]
  },
  {
   "cell_type": "code",
   "execution_count": 3,
   "metadata": {},
   "outputs": [],
   "source": [
    "def extract_color_histogram(image, bins=(8, 8, 8)):\n",
    "\t# extract a 3D color histogram from the HSV color space using\n",
    "\t# the supplied number of `bins` per channel\n",
    "\thsv = cv2.cvtColor(image, cv2.COLOR_BGR2HSV)\n",
    "\thist = cv2.calcHist([hsv], [0, 1, 2], None, bins,\n",
    "\t\t[0, 180, 0, 256, 0, 256])\n",
    "\t# handle normalizing the histogram if we are using OpenCV 2.4.X\n",
    "\tif imutils.is_cv2():\n",
    "\t\thist = cv2.normalize(hist)\n",
    "\t# otherwise, perform \"in place\" normalization in OpenCV 3 (I\n",
    "\t# personally hate the way this is done\n",
    "\telse:\n",
    "\t\tcv2.normalize(hist, hist)\n",
    "\t# return the flattened histogram as the feature vector\n",
    "\treturn hist.flatten()"
   ]
  },
  {
   "cell_type": "code",
   "execution_count": 4,
   "metadata": {},
   "outputs": [],
   "source": [
    "df_dict = {\n",
    "    'train': pd.read_csv('/home/stevie/datasets/chess_vision/256x256/dataframes/train.csv'),\n",
    "    'test': pd.read_csv('/home/stevie/datasets/chess_vision/256x256/dataframes/test.csv'),\n",
    "}"
   ]
  },
  {
   "cell_type": "code",
   "execution_count": 5,
   "metadata": {},
   "outputs": [],
   "source": [
    "df = pd.concat(df_dict.values())"
   ]
  },
  {
   "cell_type": "code",
   "execution_count": 6,
   "metadata": {},
   "outputs": [
    {
     "data": {
      "text/plain": [
       "array(['set_2', 'set_3', 'set_4', 'set_1'], dtype=object)"
      ]
     },
     "execution_count": 6,
     "metadata": {},
     "output_type": "execute_result"
    }
   ],
   "source": [
    "df['set'].unique()"
   ]
  },
  {
   "cell_type": "code",
   "execution_count": 7,
   "metadata": {},
   "outputs": [
    {
     "name": "stdout",
     "output_type": "stream",
     "text": [
      "[INFO] describing images...\n"
     ]
    }
   ],
   "source": [
    "# grab the list of images that we'll be describing\n",
    "print(\"[INFO] describing images...\")\n",
    "# initialize the raw pixel intensities matrix, the features matrix,\n",
    "# and labels list\n",
    "images = {}\n",
    "features = {}\n",
    "labels = {}\n",
    "for set_str in df['set'].unique():\n",
    "    images[set_str] = []\n",
    "    features[set_str] = []\n",
    "    labels[set_str] = []"
   ]
  },
  {
   "cell_type": "code",
   "execution_count": 8,
   "metadata": {},
   "outputs": [
    {
     "name": "stdout",
     "output_type": "stream",
     "text": [
      "54600\n",
      "1280\n"
     ]
    }
   ],
   "source": [
    "print(len(df))\n",
    "n = 10\n",
    "new_df = pd.DataFrame()\n",
    "df['combo'] = df.apply(lambda row: f\"{row['set']}_{row['label']}\", axis=1)\n",
    "for combo in df['combo'].unique():\n",
    "    selection = df[df['combo'] == combo]\n",
    "    new_df = pd.concat([new_df, selection.sample(n=10)])\n",
    "df = new_df\n",
    "print(len(df))"
   ]
  },
  {
   "cell_type": "code",
   "execution_count": 9,
   "metadata": {},
   "outputs": [
    {
     "name": "stdout",
     "output_type": "stream",
     "text": [
      "1280\n"
     ]
    },
    {
     "name": "stderr",
     "output_type": "stream",
     "text": [
      "1280it [00:01, 751.49it/s]\n"
     ]
    }
   ],
   "source": [
    "# loop over the input images\n",
    "print(len(df))\n",
    "for i, row in tqdm(df.iterrows()):\n",
    "\t# load the image and extract the class label (assuming that our\n",
    "\t# path as the format: /path/to/dataset/{class}.{image_num}.jpg\n",
    "\timage = cv2.imread(row['path'])\n",
    "\tlabel = row['label']\n",
    "\t# extract raw pixel intensity \"features\", followed by a color\n",
    "\t# histogram to characterize the color distribution of the pixels\n",
    "\t# in the image\n",
    "\tpixels = image_to_feature_vector(image)\n",
    "\thist = extract_color_histogram(image)\n",
    "\t# update the raw images, features, and labels matricies,\n",
    "\t# respectively\n",
    "\tset_str = row['set']\n",
    "\timages[set_str].append(pixels)\n",
    "\tfeatures[set_str].append(hist)\n",
    "\tlabels[set_str].append(label)"
   ]
  },
  {
   "cell_type": "code",
   "execution_count": 10,
   "metadata": {},
   "outputs": [
    {
     "name": "stdout",
     "output_type": "stream",
     "text": [
      "set_2\n",
      "[INFO] pixels matrix: 0.96MB\n",
      "[INFO] features matrix: 0.64MB\n",
      "set_3\n",
      "[INFO] pixels matrix: 0.96MB\n",
      "[INFO] features matrix: 0.64MB\n",
      "set_4\n",
      "[INFO] pixels matrix: 0.96MB\n",
      "[INFO] features matrix: 0.64MB\n",
      "set_1\n",
      "[INFO] pixels matrix: 0.96MB\n",
      "[INFO] features matrix: 0.64MB\n"
     ]
    }
   ],
   "source": [
    "for set_str in df['set'].unique():\n",
    "    images[set_str] = np.array(images[set_str])\n",
    "    features[set_str] = np.array(features[set_str])\n",
    "    labels[set_str] = np.array(labels[set_str])\n",
    "\n",
    "    print(set_str)\n",
    "    print(\"[INFO] pixels matrix: {:.2f}MB\".format(images[set_str].nbytes / (1024 * 1000.0)))\n",
    "    print(\"[INFO] features matrix: {:.2f}MB\".format(features[set_str].nbytes / (1024 * 1000.0)))"
   ]
  },
  {
   "cell_type": "code",
   "execution_count": 11,
   "metadata": {},
   "outputs": [
    {
     "name": "stderr",
     "output_type": "stream",
     "text": [
      "  0%|          | 0/3 [00:00<?, ?it/s]"
     ]
    },
    {
     "name": "stdout",
     "output_type": "stream",
     "text": [
      "kernel: linear\n",
      "\tAccuracy: 0.065625\n",
      "\tFit Time: 0.0009967073798179626\n",
      "\tEval Time: 0.0017169304192066193\n",
      "\tAccuracy: 0.053125\n",
      "\tFit Time: 0.0009050428867340088\n",
      "\tEval Time: 0.0016151495277881623\n",
      "\tAccuracy: 0.059375\n",
      "\tFit Time: 0.000894999752442042\n",
      "\tEval Time: 0.001610824465751648\n",
      "\tAccuracy: 0.046875\n",
      "\tFit Time: 0.0008896102507909138\n",
      "\tEval Time: 0.0016224384307861328\n",
      "\tAccuracy: 0.04375\n",
      "\tFit Time: 0.00015477960308392844\n",
      "\tEval Time: 0.00010523870587348938\n",
      "\tAccuracy: 0.025\n",
      "\tFit Time: 0.00015436137715975443\n",
      "\tEval Time: 0.00010835453867912293\n",
      "\tAccuracy: 0.053125\n",
      "\tFit Time: 0.00015372062722841898\n",
      "\tEval Time: 0.00011002346873283387\n"
     ]
    },
    {
     "name": "stderr",
     "output_type": "stream",
     "text": [
      " 33%|███▎      | 1/3 [00:06<00:12,  6.39s/it]"
     ]
    },
    {
     "name": "stdout",
     "output_type": "stream",
     "text": [
      "\tAccuracy: 0.034375\n",
      "\tFit Time: 0.00015488316615422566\n",
      "\tEval Time: 0.00010831505060195922\n",
      "kernel: poly_2\n",
      "\tAccuracy: 0.071875\n",
      "\tFit Time: 0.0009201059738794963\n",
      "\tEval Time: 0.0015964820981025697\n",
      "\tAccuracy: 0.04375\n",
      "\tFit Time: 0.0009015460809071858\n",
      "\tEval Time: 0.0016444876790046691\n",
      "\tAccuracy: 0.053125\n",
      "\tFit Time: 0.0009273956219355265\n",
      "\tEval Time: 0.001591505855321884\n",
      "\tAccuracy: 0.046875\n",
      "\tFit Time: 0.000928284227848053\n",
      "\tEval Time: 0.0017476923763751983\n",
      "\tAccuracy: 0.034375\n",
      "\tFit Time: 0.00015959888696670532\n",
      "\tEval Time: 0.00010571926832199096\n",
      "\tAccuracy: 0.025\n",
      "\tFit Time: 0.00015921567877133687\n",
      "\tEval Time: 0.00010874569416046143\n",
      "\tAccuracy: 0.04375\n",
      "\tFit Time: 0.00016060918569564818\n",
      "\tEval Time: 0.00012751668691635132\n"
     ]
    },
    {
     "name": "stderr",
     "output_type": "stream",
     "text": [
      " 67%|██████▋   | 2/3 [00:12<00:06,  6.40s/it]"
     ]
    },
    {
     "name": "stdout",
     "output_type": "stream",
     "text": [
      "\tAccuracy: 0.040625\n",
      "\tFit Time: 0.00015893702705701193\n",
      "\tEval Time: 0.00010628774762153626\n",
      "kernel: poly_3\n",
      "\tAccuracy: 0.071875\n",
      "\tFit Time: 0.0010006030400594075\n",
      "\tEval Time: 0.0016622960567474366\n",
      "\tAccuracy: 0.040625\n",
      "\tFit Time: 0.000986680140097936\n",
      "\tEval Time: 0.0016948238015174865\n",
      "\tAccuracy: 0.05\n",
      "\tFit Time: 0.0009096764028072357\n",
      "\tEval Time: 0.0016739308834075929\n",
      "\tAccuracy: 0.05625\n",
      "\tFit Time: 0.000903525451819102\n",
      "\tEval Time: 0.001663103699684143\n",
      "\tAccuracy: 0.028125\n",
      "\tFit Time: 0.00015906840562820434\n",
      "\tEval Time: 0.00010581612586975097\n",
      "\tAccuracy: 0.028125\n",
      "\tFit Time: 0.00015994161367416382\n",
      "\tEval Time: 0.00011280179023742676\n",
      "\tAccuracy: 0.04375\n",
      "\tFit Time: 0.00015705029169718425\n",
      "\tEval Time: 0.00011049583554267883\n"
     ]
    },
    {
     "name": "stderr",
     "output_type": "stream",
     "text": [
      "100%|██████████| 3/3 [00:19<00:00,  6.45s/it]"
     ]
    },
    {
     "name": "stdout",
     "output_type": "stream",
     "text": [
      "\tAccuracy: 0.034375\n",
      "\tFit Time: 0.0001567848026752472\n",
      "\tEval Time: 0.00011159256100654603\n"
     ]
    },
    {
     "name": "stderr",
     "output_type": "stream",
     "text": [
      "\n"
     ]
    }
   ],
   "source": [
    "data = {'input_type': [], 'kernel': [], 'fit_time': [], 'eval_time': [], 'accuracy': [], 'test_set': []}\n",
    "for kernel in tqdm(('linear', 'poly_2', 'poly_3')):\n",
    "    print(f\"kernel: {kernel}\")\n",
    "    for input_type, input_data in ('images', images), ('features', features):\n",
    "        for set_str in df['set'].unique():\n",
    "            train_X = np.concatenate([d for s, d in input_data.items() if s != set_str])\n",
    "            train_y = np.concatenate([d for s, d in labels.items() if s != set_str])\n",
    "            test_X = input_data[set_str]\n",
    "            test_y = labels[set_str]\n",
    "\n",
    "            if 'poly' in kernel:\n",
    "                model = SVC(kernel='poly', C=1, random_state=0, degree=int(kernel[-1]))\n",
    "            else:\n",
    "                model = SVC(kernel=kernel, C=1, random_state=0)\n",
    "\n",
    "            t0 = time.time()\n",
    "            model.fit(train_X, train_y)\n",
    "            t1 = time.time()\n",
    "            fit_time = (t1 - t0) / len(train_X)\n",
    "\n",
    "            #Predict the response for test dataset\n",
    "            t0 = time.time()\n",
    "            acc = model.score(test_X, test_y)\n",
    "            t1 = time.time()\n",
    "            eval_time = (t1 - t0) / len(test_X)\n",
    "\n",
    "            print(f\"\\tAccuracy: {acc}\")\n",
    "            print(f\"\\tFit Time: {fit_time}\")\n",
    "            print(f\"\\tEval Time: {eval_time}\")\n",
    "\n",
    "            data['input_type'].append(input_type)\n",
    "            data['kernel'].append(kernel)\n",
    "            data['fit_time'].append(fit_time)\n",
    "            data['eval_time'].append(eval_time)\n",
    "            data['accuracy'].append(acc)\n",
    "            data['test_set'].append(set_str)\n",
    "\n",
    "            result_df = pd.DataFrame.from_dict(data)\n",
    "            result_df.to_csv('results/data_manual_cv.csv', index=False)"
   ]
  },
  {
   "cell_type": "code",
   "execution_count": null,
   "metadata": {},
   "outputs": [],
   "source": []
  }
 ],
 "metadata": {
  "kernelspec": {
   "display_name": "Python 3.8.10 ('venv': venv)",
   "language": "python",
   "name": "python3"
  },
  "language_info": {
   "codemirror_mode": {
    "name": "ipython",
    "version": 3
   },
   "file_extension": ".py",
   "mimetype": "text/x-python",
   "name": "python",
   "nbconvert_exporter": "python",
   "pygments_lexer": "ipython3",
   "version": "3.8.10"
  },
  "orig_nbformat": 4,
  "vscode": {
   "interpreter": {
    "hash": "13639fb57c0d6e77b6df30eaff549af56586b1fadc762c3f5b241243bf02e0d0"
   }
  }
 },
 "nbformat": 4,
 "nbformat_minor": 2
}
